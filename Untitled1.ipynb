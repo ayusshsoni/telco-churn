{
 "cells": [
  {
   "cell_type": "code",
   "execution_count": 3,
   "id": "a17344f5-5350-48f2-bcb3-a0647bb5d288",
   "metadata": {},
   "outputs": [
    {
     "name": "stdout",
     "output_type": "stream",
     "text": [
      "file not saved\n"
     ]
    }
   ],
   "source": [
    "import pandas as pd\n",
    "import os\n",
    "test_df = pd.DataFrame({'test_column': [1, 2, 3]})\n",
    "test_df.to_csv(r'E:\\churn\\notebooks\\app\\data\\test_file.csv', index=False)\n",
    "if os.path.exists(\"test_file.csv\"):\n",
    "    print(\"file saved\")\n",
    "else:\n",
    "    print(\"file not saved\")"
   ]
  },
  {
   "cell_type": "code",
   "execution_count": 4,
   "id": "5fdae5c5-be55-4c6e-8b19-3caa5a8d9c89",
   "metadata": {},
   "outputs": [
    {
     "name": "stdout",
     "output_type": "stream",
     "text": [
      "📥 Loading Kaggle Telco Churn dataset...\n",
      "✅ Kaggle data loaded and cleaned successfully. Shape: (7032, 21)\n",
      "💾 Cleaned data saved to E:\\churn\\notebooks\\app\\data\\cleaned_telco_customers.csv\n",
      "📊 Classification Report:\n",
      "               precision    recall  f1-score   support\n",
      "\n",
      "           0       0.85      0.88      0.86      1033\n",
      "           1       0.62      0.56      0.59       374\n",
      "\n",
      "    accuracy                           0.79      1407\n",
      "   macro avg       0.73      0.72      0.72      1407\n",
      "weighted avg       0.79      0.79      0.79      1407\n",
      "\n",
      "🎯 ROC-AUC Score: 0.8322315461430547\n"
     ]
    },
    {
     "name": "stderr",
     "output_type": "stream",
     "text": [
      "C:\\Users\\Ayush\\AppData\\Local\\Programs\\Python\\Python313\\Lib\\site-packages\\sklearn\\linear_model\\_logistic.py:465: ConvergenceWarning: lbfgs failed to converge (status=1):\n",
      "STOP: TOTAL NO. OF ITERATIONS REACHED LIMIT.\n",
      "\n",
      "Increase the number of iterations (max_iter) or scale the data as shown in:\n",
      "    https://scikit-learn.org/stable/modules/preprocessing.html\n",
      "Please also refer to the documentation for alternative solver options:\n",
      "    https://scikit-learn.org/stable/modules/linear_model.html#logistic-regression\n",
      "  n_iter_i = _check_optimize_result(\n"
     ]
    }
   ],
   "source": [
    "# --- Imports ---\n",
    "import pandas as pd\n",
    "import numpy as np\n",
    "from pathlib import Path\n",
    "\n",
    "# For modeling\n",
    "from sklearn.model_selection import train_test_split\n",
    "from sklearn.preprocessing import LabelEncoder\n",
    "from sklearn.linear_model import LogisticRegression\n",
    "from sklearn.metrics import classification_report, roc_auc_score\n",
    "\n",
    "# --- Paths ---\n",
    "NOTEBOOK_DIR = Path.cwd()\n",
    "DATA_DIR = NOTEBOOK_DIR / \"data\"\n",
    "RAW_DATA_PATH = DATA_DIR / \"WA_Fn-UseC_-Telco-Customer-Churn.csv\"\n",
    "CLEANED_DATA_PATH = DATA_DIR / \"cleaned_telco_customers.csv\"\n",
    "\n",
    "# --- Load & Clean Data ---\n",
    "def load_and_clean_kaggle_data():\n",
    "    \"\"\"\n",
    "    Loads Kaggle Telco Churn dataset, cleans it, saves cleaned CSV, and returns DataFrame.\n",
    "    \"\"\"\n",
    "    print(\"📥 Loading Kaggle Telco Churn dataset...\")\n",
    "    df = pd.read_csv(RAW_DATA_PATH)\n",
    "\n",
    "    # Replace spaces with NaN\n",
    "    df = df.replace(\" \", np.nan)\n",
    "\n",
    "    # Drop missing values\n",
    "    df = df.dropna()\n",
    "\n",
    "    # Convert TotalCharges to numeric\n",
    "    df[\"TotalCharges\"] = pd.to_numeric(df[\"TotalCharges\"], errors=\"coerce\")\n",
    "\n",
    "    # Encode Churn column\n",
    "    df[\"Churn\"] = df[\"Churn\"].map({\"Yes\": 1, \"No\": 0})\n",
    "\n",
    "    # Encode categorical variables\n",
    "    for col in df.select_dtypes(include=\"object\").columns:\n",
    "        le = LabelEncoder()\n",
    "        df[col] = le.fit_transform(df[col])\n",
    "\n",
    "    print(f\"✅ Kaggle data loaded and cleaned successfully. Shape: {df.shape}\")\n",
    "\n",
    "    # Save cleaned dataset for Streamlit\n",
    "    DATA_DIR.mkdir(exist_ok=True)\n",
    "    df.to_csv(CLEANED_DATA_PATH, index=False)\n",
    "    print(f\"💾 Cleaned data saved to {CLEANED_DATA_PATH}\")\n",
    "\n",
    "    return df\n",
    "\n",
    "# --- Train Model ---\n",
    "def train_model(df):\n",
    "    \"\"\"\n",
    "    Splits data, trains Logistic Regression, and prints performance.\n",
    "    \"\"\"\n",
    "    X = df.drop(\"Churn\", axis=1)\n",
    "    y = df[\"Churn\"]\n",
    "\n",
    "    X_train, X_test, y_train, y_test = train_test_split(\n",
    "        X, y, test_size=0.2, random_state=42, stratify=y\n",
    "    )\n",
    "\n",
    "    model = LogisticRegression(max_iter=1000)\n",
    "    model.fit(X_train, y_train)\n",
    "\n",
    "    y_pred = model.predict(X_test)\n",
    "    y_proba = model.predict_proba(X_test)[:, 1]\n",
    "\n",
    "    print(\"📊 Classification Report:\\n\", classification_report(y_test, y_pred))\n",
    "    print(\"🎯 ROC-AUC Score:\", roc_auc_score(y_test, y_proba))\n",
    "\n",
    "    return model\n",
    "\n",
    "# --- Main Pipeline ---\n",
    "if __name__ == \"__main__\":\n",
    "    df_clean = load_and_clean_kaggle_data()\n",
    "    model = train_model(df_clean)\n"
   ]
  },
  {
   "cell_type": "code",
   "execution_count": null,
   "id": "c5c77257-c4ed-4f38-b7c2-82203eb53703",
   "metadata": {},
   "outputs": [],
   "source": []
  }
 ],
 "metadata": {
  "kernelspec": {
   "display_name": "Python 3 (ipykernel)",
   "language": "python",
   "name": "python3"
  },
  "language_info": {
   "codemirror_mode": {
    "name": "ipython",
    "version": 3
   },
   "file_extension": ".py",
   "mimetype": "text/x-python",
   "name": "python",
   "nbconvert_exporter": "python",
   "pygments_lexer": "ipython3",
   "version": "3.13.7"
  }
 },
 "nbformat": 4,
 "nbformat_minor": 5
}
